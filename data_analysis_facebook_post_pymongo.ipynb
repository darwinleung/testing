{
 "cells": [
  {
   "cell_type": "markdown",
   "metadata": {},
   "source": [
    "# Data Analysis on Facebook posts\n",
    "\n",
    "*This notebook is view-only for now, since MongoDB GCE restricted access for certain IP address, this notebook is built locally with the Mongodb server tunneling to localhost as well. To run this, we can host jupyter server on any VM that is accessible to the Mongo server.*\n",
    "\n",
    "Data from MongoDB production-mongo-1, we mainly look at post_summary collection in facebook database. We look at all the posts from 2017-05-01 to 2017-05-31 for shared page only. post_summary stop getting updates after 2 weeks so data is static.\n",
    "\n",
    "\n",
    "\n",
    "Some key findings so far, based on some generalization and assumptions:\n",
    "1. We post about 45 posts everyday, 84% of them are link post, 14% are video posts, 3% are photo posts.\n",
    "2. On average, they should see about 84 posts on their news feed average per month (about 127 impressions).\n",
    "3. they make about 5 clicks each month.\n",
    "\n",
    "\n",
    "---\n",
    "- How much a facebook page fan worth?\n",
    "- How much a link click worth?\n",
    "- breakdown by post type\n",
    "- breakdown by brand\n",
    "- Fan vs non-fan\n",
    "- How much on average a page fan worth?\n",
    "- How many times on average a page fan like our posts (or view content)?\n",
    "- How much on average a like on our post worth?\n",
    "- How much on average a share on our post worth? (reach)\n",
    "- Link clicks vs likes ratio of all posts\n",
    "- Estimate the probability a fan/non-fan click on a post\n",
    "- Estimate link click by likes/share/comments (break down by post_type)\n",
    "\n",
    "\n",
    "---\n"
   ]
  },
  {
   "cell_type": "code",
   "execution_count": 10,
   "metadata": {
    "collapsed": false
   },
   "outputs": [],
   "source": [
    "%matplotlib inline\n",
    "import pymongo\n",
    "import json\n",
    "from pprint import pprint\n",
    "from pymongo import MongoClient\n",
    "from pandas.io.json import json_normalize\n",
    "import matplotlib.pyplot as plt\n",
    "import pandas as pd\n",
    "import numpy as np\n",
    "import matplotlib\n",
    "from scipy import stats\n",
    "from bson.code import Code\n",
    "matplotlib.style.use('ggplot')\n",
    "pd.set_option('display.float_format', lambda x: '%.3f' % x)\n",
    "\n",
    "client = MongoClient()\n",
    "client = MongoClient('mongodb://localhost:27017') #tunnelling to localhost\n",
    "\n",
    "#what databases are available\n",
    "#pprint(client.database_names())\n",
    "# facebook database\n",
    "db = client.facebook\n",
    "#what collections are available\n",
    "#pprint(db.collection_names())\n",
    "collection = db.post_summary\n",
    "\n",
    "startdate = '2017-05-01'\n",
    "enddate = '2017-05-31'"
   ]
  },
  {
   "cell_type": "markdown",
   "metadata": {},
   "source": [
    "## Overview"
   ]
  },
  {
   "cell_type": "markdown",
   "metadata": {},
   "source": [
    "Up to 2016-12-16, there are 301,368 posts in the collection, 19,837 of them are posted on Shared Facebook page, in 2016 Nov, there are 1397 posts."
   ]
  },
  {
   "cell_type": "code",
   "execution_count": 11,
   "metadata": {
    "collapsed": false
   },
   "outputs": [
    {
     "name": "stdout",
     "output_type": "stream",
     "text": [
      "384499\n",
      "29841\n",
      "1850\n"
     ]
    }
   ],
   "source": [
    "pprint(collection.count())\n",
    "pprint(collection.find({'page_name':'Shared'}).count())\n",
    "pprint(collection.find({'page_name':'Shared','date':{'$gte': startdate,'$lte': enddate}}).count())"
   ]
  },
  {
   "cell_type": "markdown",
   "metadata": {},
   "source": [
    "Let's have a look on one record, fields that are useful:\n",
    "- page_name (filter by 'Shared')\n",
    "- date (filter from 2017-05-01 to 2017-05-31')\n",
    "- post_id \n",
    "- post_type (link, photo, video)\n",
    "- brand_domain (breakdown by brand)\n",
    "- page_likes (Shared page fan on the day the post created)\n",
    "- post_likes (post_likes_on_post, post_likes_on_shares)\n",
    "- post_comments (post_comments_on_post, post_comments_on_shares)\n",
    "- post_shares\n",
    "- post_reactions_total (like, love, wow, haha, sad, angry, thankful)\n",
    "- post_impressions_unique (The number of people who saw your Page post)\n",
    "- post_impressions (The number of impressions for your Page post)\n",
    "- post_impressions_fan (The number of impressions for your Page post by people who have liked your Page)\n",
    "- post_impressions_fan_unique (The number of people who have like your Page who saw your Page post)\n",
    "- post_link_clicks (The number of clicks on the link)\n",
    "- **post_link_clicks_unique** (The number of people who have click on the link, this is our conversion)\n",
    "- post_engaged_users (The number of people who clicked anywhere in your posts)\n",
    "- timestamp (post created timestamp)\n",
    "- updated_at (post last update timestamp, usually it is 2 week after the created timestamp)\n",
    "- reached_size_ratio (post_impressions_unique / page_likes)\n",
    "- reached_size_ratio_fan (post_impressions_fan_unique / page_likes)\n",
    "- click_size_ratio (post_link_clicks / page_size)\n",
    "- clicks_to_impressions (post_clicks / post_impressions_unique)\n",
    "- link_clicks_to_impressions (post_link_clicks / post_impressions_unique)\n",
    "\n"
   ]
  },
  {
   "cell_type": "code",
   "execution_count": 15,
   "metadata": {
    "collapsed": false,
    "scrolled": false
   },
   "outputs": [],
   "source": [
    "collection.find_one({'page_name':'Shared','date':{'$gte': startdate,'$lte': enddate}});"
   ]
  },
  {
   "cell_type": "markdown",
   "metadata": {},
   "source": [
    " **We post around 50-70 posts a day on Shared page, average is 62 posts.**"
   ]
  },
  {
   "cell_type": "code",
   "execution_count": 12,
   "metadata": {
    "collapsed": false
   },
   "outputs": [
    {
     "name": "stdout",
     "output_type": "stream",
     "text": [
      "min:  49\n",
      "max:  68\n",
      "avg:  61.6666666667\n"
     ]
    },
    {
     "data": {
      "image/png": "[encoded data removed]",
      "text/plain": [
       "<matplotlib.figure.Figure at 0xdb7f780>"
      ]
     },
     "metadata": {},
     "output_type": "display_data"
    }
   ],
   "source": [
    "post_count_by_day = \\\n",
    "    sorted(list(collection.aggregate([{'$match': {'page_name': 'Shared'\n",
    "           , 'date':{'$gte': startdate,'$lte': enddate}}},\n",
    "           {'$group': {'_id': '$date', 'count': {'$sum': 1}}}])),\n",
    "           key=lambda k: k['_id'])\n",
    "post_count_by_day_df = json_normalize(post_count_by_day)\n",
    "post_count_by_day_df[['_id','count']].plot.bar()\n",
    "print 'min: ',np.min(post_count_by_day_df['count'])\n",
    "print 'max: ',np.max(post_count_by_day_df['count'])\n",
    "print 'avg: ',np.average(post_count_by_day_df['count'])"
   ]
  },
  {
   "cell_type": "code",
   "execution_count": 23,
   "metadata": {
    "collapsed": false
   },
   "outputs": [
    {
     "data": {
      "text/html": [
       "<div>\n",
       "<table border=\"1\" class=\"dataframe\">\n",
       "  <thead>\n",
       "    <tr style=\"text-align: right;\">\n",
       "      <th></th>\n",
       "      <th>0</th>\n",
       "      <th>avg</th>\n",
       "    </tr>\n",
       "  </thead>\n",
       "  <tbody>\n",
       "    <tr>\n",
       "      <th>countstar</th>\n",
       "      <td>1850.000</td>\n",
       "      <td>1.000</td>\n",
       "    </tr>\n",
       "    <tr>\n",
       "      <th>sumclick_size_ratio</th>\n",
       "      <td>622.668</td>\n",
       "      <td>0.337</td>\n",
       "    </tr>\n",
       "    <tr>\n",
       "      <th>sumclicks_to_impressions</th>\n",
       "      <td>14372.348</td>\n",
       "      <td>7.769</td>\n",
       "    </tr>\n",
       "    <tr>\n",
       "      <th>sumlink_clicks_to_impressions</th>\n",
       "      <td>10078.387</td>\n",
       "      <td>5.448</td>\n",
       "    </tr>\n",
       "    <tr>\n",
       "      <th>sumpost_comments</th>\n",
       "      <td>3293198.000</td>\n",
       "      <td>1780.107</td>\n",
       "    </tr>\n",
       "    <tr>\n",
       "      <th>sumpost_engaged_users</th>\n",
       "      <td>126862588.000</td>\n",
       "      <td>68574.372</td>\n",
       "    </tr>\n",
       "    <tr>\n",
       "      <th>sumpost_impressions</th>\n",
       "      <td>2835899274.000</td>\n",
       "      <td>1532918.526</td>\n",
       "    </tr>\n",
       "    <tr>\n",
       "      <th>sumpost_impressions_fan</th>\n",
       "      <td>1607171019.000</td>\n",
       "      <td>868741.091</td>\n",
       "    </tr>\n",
       "    <tr>\n",
       "      <th>sumpost_impressions_fan_unique</th>\n",
       "      <td>1059829098.000</td>\n",
       "      <td>572880.594</td>\n",
       "    </tr>\n",
       "    <tr>\n",
       "      <th>sumpost_impressions_unique</th>\n",
       "      <td>1789781536.000</td>\n",
       "      <td>967449.479</td>\n",
       "    </tr>\n",
       "    <tr>\n",
       "      <th>sumpost_likes</th>\n",
       "      <td>24750719.000</td>\n",
       "      <td>13378.767</td>\n",
       "    </tr>\n",
       "    <tr>\n",
       "      <th>sumpost_link_clicks</th>\n",
       "      <td>72398078.000</td>\n",
       "      <td>39134.096</td>\n",
       "    </tr>\n",
       "    <tr>\n",
       "      <th>sumpost_link_clicks_unique</th>\n",
       "      <td>68068669.000</td>\n",
       "      <td>36793.875</td>\n",
       "    </tr>\n",
       "    <tr>\n",
       "      <th>sumpost_reactions_total</th>\n",
       "      <td>29554217.000</td>\n",
       "      <td>15975.252</td>\n",
       "    </tr>\n",
       "    <tr>\n",
       "      <th>sumpost_shares</th>\n",
       "      <td>9668849.000</td>\n",
       "      <td>5226.405</td>\n",
       "    </tr>\n",
       "    <tr>\n",
       "      <th>sumreached_size_ratio</th>\n",
       "      <td>15388.014</td>\n",
       "      <td>8.318</td>\n",
       "    </tr>\n",
       "    <tr>\n",
       "      <th>sumreached_size_ratio_fan</th>\n",
       "      <td>9113.326</td>\n",
       "      <td>4.926</td>\n",
       "    </tr>\n",
       "  </tbody>\n",
       "</table>\n",
       "</div>"
      ],
      "text/plain": [
       "                                            0         avg\n",
       "countstar                            1850.000       1.000\n",
       "sumclick_size_ratio                   622.668       0.337\n",
       "sumclicks_to_impressions            14372.348       7.769\n",
       "sumlink_clicks_to_impressions       10078.387       5.448\n",
       "sumpost_comments                  3293198.000    1780.107\n",
       "sumpost_engaged_users           126862588.000   68574.372\n",
       "sumpost_impressions            2835899274.000 1532918.526\n",
       "sumpost_impressions_fan        1607171019.000  868741.091\n",
       "sumpost_impressions_fan_unique 1059829098.000  572880.594\n",
       "sumpost_impressions_unique     1789781536.000  967449.479\n",
       "sumpost_likes                    24750719.000   13378.767\n",
       "sumpost_link_clicks              72398078.000   39134.096\n",
       "sumpost_link_clicks_unique       68068669.000   36793.875\n",
       "sumpost_reactions_total          29554217.000   15975.252\n",
       "sumpost_shares                    9668849.000    5226.405\n",
       "sumreached_size_ratio               15388.014       8.318\n",
       "sumreached_size_ratio_fan            9113.326       4.926"
      ]
     },
     "execution_count": 23,
     "metadata": {},
     "output_type": "execute_result"
    }
   ],
   "source": [
    "reducer = \\\n",
    "    Code(\"\"\"\n",
    "    function(obj, prev) {\n",
    "        if (true != null) if (true instanceof Array) prev.countstar += true.length;\n",
    "        else prev.countstar++;\n",
    "        prev.sumpost_likes = prev.sumpost_likes + obj.post_likes - 0;\n",
    "        prev.sumpost_comments = prev.sumpost_comments + obj.post_comments - 0;\n",
    "        prev.sumpost_shares = prev.sumpost_shares + obj.post_shares - 0;\n",
    "        prev.sumpost_reactions_total = prev.sumpost_reactions_total + obj.post_reactions_total - 0;\n",
    "        prev.sumpost_impressions_unique = prev.sumpost_impressions_unique + obj.post_impressions_unique - 0;\n",
    "        prev.sumpost_impressions = prev.sumpost_impressions + obj.post_impressions - 0;\n",
    "        prev.sumpost_impressions_fan = prev.sumpost_impressions_fan + obj.post_impressions_fan - 0;\n",
    "        prev.sumpost_impressions_fan_unique = prev.sumpost_impressions_fan_unique + obj.post_impressions_fan_unique - 0;\n",
    "        prev.sumpost_link_clicks = prev.sumpost_link_clicks + obj.post_link_clicks - 0;\n",
    "        prev.sumpost_link_clicks_unique = prev.sumpost_link_clicks_unique + obj.post_link_clicks_unique - 0;\n",
    "        prev.sumpost_engaged_users = prev.sumpost_engaged_users + obj.post_engaged_users - 0;\n",
    "        prev.sumreached_size_ratio = prev.sumreached_size_ratio + obj.reached_size_ratio - 0;\n",
    "        prev.sumreached_size_ratio_fan = prev.sumreached_size_ratio_fan + obj.reached_size_ratio_fan - 0;\n",
    "        prev.sumclick_size_ratio = prev.sumclick_size_ratio + obj.click_size_ratio - 0;\n",
    "        prev.sumclicks_to_impressions = prev.sumclicks_to_impressions + obj.clicks_to_impressions - 0;\n",
    "        prev.sumlink_clicks_to_impressions = prev.sumlink_clicks_to_impressions + obj.link_clicks_to_impressions - 0;\n",
    "    }\n",
    "    \"\"\")\n",
    "\n",
    "post_summary_sum = db.post_summary.group(key=None,initial={\n",
    "    'countstar': 0,\n",
    "    'sumpost_engaged_users': 0,\n",
    "    'sumpost_reactions_total': 0,\n",
    "    'sumpost_link_clicks': 0,\n",
    "    'sumpost_impressions_unique': 0,\n",
    "    'sumpost_likes': 0,\n",
    "    'sumpost_comments': 0,\n",
    "    'sumpost_shares': 0,\n",
    "    'sumpost_impressions': 0,\n",
    "    'sumpost_impressions_fan': 0,\n",
    "    'sumpost_impressions_fan_unique': 0,\n",
    "    'sumpost_link_clicks_unique': 0,\n",
    "    'sumreached_size_ratio': 0,\n",
    "    'sumreached_size_ratio_fan': 0,\n",
    "    'sumclick_size_ratio': 0,\n",
    "    'sumclicks_to_impressions': 0,\n",
    "    'sumlink_clicks_to_impressions': 0,\n",
    "    }, reduce=reducer, condition={'page_name': 'Shared',\n",
    "                                  'date': {'$gt': startdate,\n",
    "                                  '$lt': enddate}}, finalize=None)\n",
    "\n",
    "post_summary_avg = pd.DataFrame(post_summary_sum).transpose()\n",
    "post_summary_avg['avg'] = post_summary_avg / post_summary_avg[0]['countstar']\n",
    "post_summary_avg"
   ]
  },
  {
   "cell_type": "markdown",
   "metadata": {},
   "source": [
    "We have about 1 million (sumpost_impressions) impressions for each post, however, they are  660k (sumpost_impressions_unique) unique people who account for the 1 million impressions, on average, they made about 1.55 impressions for each posts.\n",
    "\n",
    "Out of the 660k people, 70% of them are our page fan (sumpost_impressions_fan_unique). That is about 6% (sumreached_size_ratio_fan) of our page size, however we don't know if the 6% are overlapped for each post, we will assume that they are randomly selected. We can model it using binomial distribution where p=0.06, we have about 1400 posts a month. The probabilty distribution:\n",
    "\n",
    "Also, taking average on a post, 446k of fan accounts for 677k of impressions which is about 1.517 impressions for each posts."
   ]
  },
  {
   "cell_type": "code",
   "execution_count": 13,
   "metadata": {
    "collapsed": false
   },
   "outputs": [
    {
     "name": "stdout",
     "output_type": "stream",
     "text": [
      "5% percentile:  70.0\n"
     ]
    },
    {
     "data": {
      "image/png": "[encoded data removed]",
      "text/plain": [
       "<matplotlib.figure.Figure at 0xab19080>"
      ]
     },
     "metadata": {},
     "output_type": "display_data"
    }
   ],
   "source": [
    "x = range(200)\n",
    "y = stats.binom.pmf(x,1397,0.06)\n",
    "plt.bar(x,y, color=\"black\")\n",
    "\n",
    "print \"5% percentile: \",stats.binom.ppf(0.05, 1400, 0.06, loc=0)"
   ]
  },
  {
   "cell_type": "markdown",
   "metadata": {},
   "source": [
    "**On average, they should see about 84 posts on average per month (about 127 impressions).** 95% of them will see at least 70 posts (~106 impressions).\n",
    "\n",
    "Next we need P(link click | impression), given an impression, what is the probabilty that one will click on the link? 4%\n",
    "given an impression, there are 4% chance they click on a link. Lets say on average they see about 127 impressions, **they make about 5 clicks on any of our posts each month.**\n",
    "\n",
    "Next we need to estimate how much a link click worth, it gets a little bit tricky, first a post could be shared from our webpage post, then we earn money by \n"
   ]
  },
  {
   "cell_type": "code",
   "execution_count": 21,
   "metadata": {
    "collapsed": false
   },
   "outputs": [
    {
     "name": "stdout",
     "output_type": "stream",
     "text": [
      "avg_link_clicks_unique_to_impressions_unique:  0.0559491023996\n",
      "avg_link_clicks_to_impressions:  0.0406127205586\n"
     ]
    }
   ],
   "source": [
    "avg_link_clicks_unique_to_impressions_unique = np.average(pd.DataFrame(list(collection.aggregate([{'$match': {'page_name': 'Shared'\n",
    "           , 'date': {'$gte': '2016-11-01', '$lte': '2016-12-01'}}},\n",
    "           {'$project': {'avg_link_clicks_unique_to_impression_unique': {'$divide': ['$post_link_clicks_unique'\n",
    "           , '$post_impressions_unique'\n",
    "           ]}}}])))['avg_link_clicks_unique_to_impression_unique'])  \n",
    "# ad-hoc link_clicks_unique_impressions_unique ratio, it is not available on Mongo\n",
    "\n",
    "avg_link_clicks_to_impressions = np.average(pd.DataFrame(list(collection.aggregate([{'$match': {'page_name': 'Shared'\n",
    "           , 'date': {'$gte': '2016-11-01', '$lte': '2016-12-01'}}},\n",
    "           {'$project': {'avg_link_clicks_to_impressions': {'$divide': ['$post_link_clicks'\n",
    "           , '$post_impressions'\n",
    "           ]}}}])))['avg_link_clicks_to_impressions'])  \n",
    "\n",
    "# ad-hoc link_clicks_impressions ratio, it is not available on Mongo\n",
    "\n",
    "print 'avg_link_clicks_unique_to_impressions_unique: ',avg_link_clicks_unique_to_impressions_unique\n",
    "print 'avg_link_clicks_to_impressions: ' ,avg_link_clicks_to_impressions"
   ]
  },
  {
   "cell_type": "code",
   "execution_count": 43,
   "metadata": {
    "collapsed": false
   },
   "outputs": [
    {
     "data": {
      "text/html": [
       "<div>\n",
       "<table border=\"1\" class=\"dataframe\">\n",
       "  <thead>\n",
       "    <tr style=\"text-align: right;\">\n",
       "      <th></th>\n",
       "      <th>0</th>\n",
       "      <th>avg</th>\n",
       "    </tr>\n",
       "  </thead>\n",
       "  <tbody>\n",
       "    <tr>\n",
       "      <th>countstar</th>\n",
       "      <td>14403.000</td>\n",
       "      <td>1.000</td>\n",
       "    </tr>\n",
       "    <tr>\n",
       "      <th>sumclick_size_ratio</th>\n",
       "      <td>4269.893</td>\n",
       "      <td>0.296</td>\n",
       "    </tr>\n",
       "    <tr>\n",
       "      <th>sumclicks_to_impressions</th>\n",
       "      <td>102332.529</td>\n",
       "      <td>7.105</td>\n",
       "    </tr>\n",
       "    <tr>\n",
       "      <th>sumlink_clicks_to_impressions</th>\n",
       "      <td>74181.496</td>\n",
       "      <td>5.150</td>\n",
       "    </tr>\n",
       "    <tr>\n",
       "      <th>sumpost_comments</th>\n",
       "      <td>3469426.000</td>\n",
       "      <td>240.882</td>\n",
       "    </tr>\n",
       "    <tr>\n",
       "      <th>sumpost_engaged_users</th>\n",
       "      <td>240145008.000</td>\n",
       "      <td>16673.263</td>\n",
       "    </tr>\n",
       "    <tr>\n",
       "      <th>sumpost_impressions</th>\n",
       "      <td>3023139590.000</td>\n",
       "      <td>209896.521</td>\n",
       "    </tr>\n",
       "    <tr>\n",
       "      <th>sumpost_impressions_fan</th>\n",
       "      <td>1549535877.000</td>\n",
       "      <td>107584.245</td>\n",
       "    </tr>\n",
       "    <tr>\n",
       "      <th>sumpost_impressions_fan_unique</th>\n",
       "      <td>2020556792.000</td>\n",
       "      <td>140287.217</td>\n",
       "    </tr>\n",
       "    <tr>\n",
       "      <th>sumpost_impressions_unique</th>\n",
       "      <td>3803353574.000</td>\n",
       "      <td>264066.762</td>\n",
       "    </tr>\n",
       "    <tr>\n",
       "      <th>sumpost_likes</th>\n",
       "      <td>19562261.000</td>\n",
       "      <td>1358.207</td>\n",
       "    </tr>\n",
       "    <tr>\n",
       "      <th>sumpost_link_clicks</th>\n",
       "      <td>129899056.000</td>\n",
       "      <td>9018.889</td>\n",
       "    </tr>\n",
       "    <tr>\n",
       "      <th>sumpost_link_clicks_unique</th>\n",
       "      <td>59688363.000</td>\n",
       "      <td>4144.162</td>\n",
       "    </tr>\n",
       "    <tr>\n",
       "      <th>sumpost_reactions_total</th>\n",
       "      <td>47805256.000</td>\n",
       "      <td>3319.118</td>\n",
       "    </tr>\n",
       "    <tr>\n",
       "      <th>sumpost_shares</th>\n",
       "      <td>8383445.000</td>\n",
       "      <td>582.062</td>\n",
       "    </tr>\n",
       "    <tr>\n",
       "      <th>sumreached_size_ratio</th>\n",
       "      <td>180160.283</td>\n",
       "      <td>12.509</td>\n",
       "    </tr>\n",
       "    <tr>\n",
       "      <th>sumreached_size_ratio_fan</th>\n",
       "      <td>69940.730</td>\n",
       "      <td>4.856</td>\n",
       "    </tr>\n",
       "  </tbody>\n",
       "</table>\n",
       "</div>"
      ],
      "text/plain": [
       "                                            0        avg\n",
       "countstar                           14403.000      1.000\n",
       "sumclick_size_ratio                  4269.893      0.296\n",
       "sumclicks_to_impressions           102332.529      7.105\n",
       "sumlink_clicks_to_impressions       74181.496      5.150\n",
       "sumpost_comments                  3469426.000    240.882\n",
       "sumpost_engaged_users           240145008.000  16673.263\n",
       "sumpost_impressions            3023139590.000 209896.521\n",
       "sumpost_impressions_fan        1549535877.000 107584.245\n",
       "sumpost_impressions_fan_unique 2020556792.000 140287.217\n",
       "sumpost_impressions_unique     3803353574.000 264066.762\n",
       "sumpost_likes                    19562261.000   1358.207\n",
       "sumpost_link_clicks             129899056.000   9018.889\n",
       "sumpost_link_clicks_unique       59688363.000   4144.162\n",
       "sumpost_reactions_total          47805256.000   3319.118\n",
       "sumpost_shares                    8383445.000    582.062\n",
       "sumreached_size_ratio              180160.283     12.509\n",
       "sumreached_size_ratio_fan           69940.730      4.856"
      ]
     },
     "execution_count": 43,
     "metadata": {},
     "output_type": "execute_result"
    }
   ],
   "source": [
    "post_summary_sum_all = [\n",
    "    {\n",
    "        \"countstar\" : 14403.0,\n",
    "        \"sumpost_engaged_users\" : 240145008.0,\n",
    "        \"sumpost_reactions_total\" : 47805256.0,\n",
    "        \"sumpost_link_clicks\" : 129899056.0,\n",
    "        \"sumpost_impressions_unique\" : 3803353574.0,\n",
    "        \"sumpost_likes\" : 19562261.0,\n",
    "        \"sumpost_comments\" : 3469426.0,\n",
    "        \"sumpost_shares\" : 8383445.0,\n",
    "        \"sumpost_impressions\" : 3023139590.0,\n",
    "        \"sumpost_impressions_fan\" : 1549535877.0,\n",
    "        \"sumpost_impressions_fan_unique\" : 2020556792.0,\n",
    "        \"sumpost_link_clicks_unique\" : 59688363.0,\n",
    "        \"sumreached_size_ratio\" : 180160.282775814,\n",
    "        \"sumreached_size_ratio_fan\" : 69940.7299740468,\n",
    "        \"sumclick_size_ratio\" : 4269.89328127687,\n",
    "        \"sumclicks_to_impressions\" : 102332.529292097,\n",
    "        \"sumlink_clicks_to_impressions\" : 74181.4963846702\n",
    "    }\n",
    "]\n",
    "\n",
    "post_summary_avg_all = pd.DataFrame(post_summary_sum_all).transpose()\n",
    "post_summary_avg_all['avg'] = post_summary_avg_all / 14403\n",
    "post_summary_avg_all"
   ]
  },
  {
   "cell_type": "markdown",
   "metadata": {},
   "source": [
    "### Breakdown by post type"
   ]
  },
  {
   "cell_type": "code",
   "execution_count": 27,
   "metadata": {
    "collapsed": false
   },
   "outputs": [
    {
     "data": {
      "text/html": [
       "<div>\n",
       "<table border=\"1\" class=\"dataframe\">\n",
       "  <thead>\n",
       "    <tr style=\"text-align: right;\">\n",
       "      <th></th>\n",
       "      <th>_id</th>\n",
       "      <th>count</th>\n",
       "    </tr>\n",
       "  </thead>\n",
       "  <tbody>\n",
       "    <tr>\n",
       "      <th>2</th>\n",
       "      <td>link</td>\n",
       "      <td>1170</td>\n",
       "    </tr>\n",
       "    <tr>\n",
       "      <th>0</th>\n",
       "      <td>photo</td>\n",
       "      <td>37</td>\n",
       "    </tr>\n",
       "    <tr>\n",
       "      <th>1</th>\n",
       "      <td>video</td>\n",
       "      <td>190</td>\n",
       "    </tr>\n",
       "  </tbody>\n",
       "</table>\n",
       "</div>"
      ],
      "text/plain": [
       "     _id  count\n",
       "2   link   1170\n",
       "0  photo     37\n",
       "1  video    190"
      ]
     },
     "execution_count": 27,
     "metadata": {},
     "output_type": "execute_result"
    }
   ],
   "source": [
    "post_type_count = \\\n",
    "    list(collection.aggregate([{'$match': {'page_name': 'Shared',\n",
    "         'date': {'$gte': '2016-11-01', '$lte': '2016-12-01'}}},\n",
    "         {'$group': {'_id':'$post_type', 'count': {'$sum': 1}}}]))\n",
    "post_type_count_df = json_normalize(post_type_count).sort_values('_id')\n",
    "post_type_count_df"
   ]
  },
  {
   "cell_type": "code",
   "execution_count": 28,
   "metadata": {
    "collapsed": false
   },
   "outputs": [
    {
     "data": {
      "text/plain": [
       "<matplotlib.axes._subplots.AxesSubplot at 0xb154390>"
      ]
     },
     "execution_count": 28,
     "metadata": {},
     "output_type": "execute_result"
    },
    {
     "data": {
      "image/png": "[encoded data removed]",
      "text/plain": [
       "<matplotlib.figure.Figure at 0xadfcf28>"
      ]
     },
     "metadata": {},
     "output_type": "display_data"
    }
   ],
   "source": [
    "post_type_count_df.plot.pie('count',labels=post_type_count_df['_id'],figsize=(6, 6),autopct='%.2f%%')"
   ]
  },
  {
   "cell_type": "markdown",
   "metadata": {},
   "source": [
    "84% of them are link posts, 14% are video posts, only less than 3% are photo posts. Let's see their distribution of brand_domain."
   ]
  },
  {
   "cell_type": "code",
   "execution_count": 29,
   "metadata": {
    "collapsed": false
   },
   "outputs": [
    {
     "data": {
      "text/plain": [
       "[{u'post_type': u'link',\n",
       "  u'sumpost_engaged_users': 49780393.0,\n",
       "  u'sumpost_impressions_unique': 564763591.0,\n",
       "  u'sumpost_link_clicks': 42330121.0,\n",
       "  u'sumpost_reactions_total': 4637319.0},\n",
       " {u'post_type': u'video',\n",
       "  u'sumpost_engaged_users': 15370272.0,\n",
       "  u'sumpost_impressions_unique': 330032423.0,\n",
       "  u'sumpost_link_clicks': 451912.0,\n",
       "  u'sumpost_reactions_total': 4925135.0},\n",
       " {u'post_type': u'photo',\n",
       "  u'sumpost_engaged_users': 1582457.0,\n",
       "  u'sumpost_impressions_unique': 27146455.0,\n",
       "  u'sumpost_link_clicks': 411413.0,\n",
       "  u'sumpost_reactions_total': 486946.0}]"
      ]
     },
     "execution_count": 29,
     "metadata": {},
     "output_type": "execute_result"
    }
   ],
   "source": [
    "reducer = \\\n",
    "    Code(\"\"\"\n",
    "    function(obj, prev) {\n",
    "        prev.sumpost_engaged_users = prev.sumpost_engaged_users + obj.post_engaged_users - 0;\n",
    "        prev.sumpost_reactions_total = prev.sumpost_reactions_total + obj.post_reactions_total - 0;\n",
    "        prev.sumpost_link_clicks = prev.sumpost_link_clicks + obj.post_link_clicks - 0;\n",
    "        prev.sumpost_impressions_unique = prev.sumpost_impressions_unique + obj.post_impressions_unique - 0;\n",
    "    }\n",
    "    \"\"\")\n",
    "post_type_sum = db.post_summary.group(key={'post_type': True}, initial={\n",
    "    'sumpost_engaged_users': 0,\n",
    "    'sumpost_reactions_total': 0,\n",
    "    'sumpost_link_clicks': 0,\n",
    "    'sumpost_impressions_unique': 0,\n",
    "    }, reduce=reducer, condition={'page_name': 'Shared',\n",
    "                                  'date': {'$gt': '2016-11-01',\n",
    "                                  '$lt': '2016-12-01'}}, finalize=None)\n",
    "\n",
    "# http://stackoverflow.com/questions/29039298/how-to-write-mongodb-query-in-python-for-db-collection-group\n",
    "# http://api.mongodb.com/python/current/examples/aggregation.html\n",
    "\n",
    "post_type_sum\n"
   ]
  },
  {
   "cell_type": "code",
   "execution_count": 30,
   "metadata": {
    "collapsed": false
   },
   "outputs": [
    {
     "name": "stdout",
     "output_type": "stream",
     "text": [
      "Link post avg impressions_unique:  482703.923932\n",
      "Link post avg engaged_users:  42547.3444444\n",
      "Link post avg link_clicks:  36179.5905983\n",
      "Link post avg total reaction:  3963.52051282\n",
      "---------------------------\n",
      "Video post avg impressions_unique:  1737012.75263\n",
      "Video post avg engaged_users:  80896.1684211\n",
      "Video post avg link_clicks:  2378.48421053\n",
      "Video post avg total reaction:  25921.7631579\n",
      "---------------------------\n",
      "Photo post avg impressions_unique:  733687.972973\n",
      "Photo post avg engaged_users:  42769.1081081\n",
      "Photo post avg link_clicks:  11119.2702703\n",
      "Photo post avg total reaction:  13160.7027027\n"
     ]
    }
   ],
   "source": [
    "print 'Link post avg impressions_unique: ', post_type_sum[0]['sumpost_impressions_unique']/post_type_count_df['count'][2]\n",
    "print 'Link post avg engaged_users: ', post_type_sum[0]['sumpost_engaged_users']/post_type_count_df['count'][2]\n",
    "print 'Link post avg link_clicks: ', post_type_sum[0]['sumpost_link_clicks']/post_type_count_df['count'][2]\n",
    "print 'Link post avg total reaction: ', post_type_sum[0]['sumpost_reactions_total']/post_type_count_df['count'][2]\n",
    "print '---------------------------'\n",
    "print 'Video post avg impressions_unique: ', post_type_sum[1]['sumpost_impressions_unique']/post_type_count_df['count'][1]\n",
    "print 'Video post avg engaged_users: ', post_type_sum[1]['sumpost_engaged_users']/post_type_count_df['count'][1]\n",
    "print 'Video post avg link_clicks: ', post_type_sum[1]['sumpost_link_clicks']/post_type_count_df['count'][1]\n",
    "print 'Video post avg total reaction: ', post_type_sum[1]['sumpost_reactions_total']/post_type_count_df['count'][1]\n",
    "print '---------------------------'\n",
    "print 'Photo post avg impressions_unique: ', post_type_sum[2]['sumpost_impressions_unique']/post_type_count_df['count'][0]\n",
    "print 'Photo post avg engaged_users: ', post_type_sum[2]['sumpost_engaged_users']/post_type_count_df['count'][0]\n",
    "print 'Photo post avg link_clicks: ', post_type_sum[2]['sumpost_link_clicks']/post_type_count_df['count'][0]\n",
    "print 'Photo post avg total reaction: ', post_type_sum[2]['sumpost_reactions_total']/post_type_count_df['count'][0]"
   ]
  },
  {
   "cell_type": "code",
   "execution_count": 31,
   "metadata": {
    "collapsed": false
   },
   "outputs": [
    {
     "data": {
      "text/html": [
       "<div>\n",
       "<table border=\"1\" class=\"dataframe\">\n",
       "  <thead>\n",
       "    <tr style=\"text-align: right;\">\n",
       "      <th></th>\n",
       "      <th>post_type</th>\n",
       "      <th>sumpost_engaged_users</th>\n",
       "      <th>sumpost_impressions_unique</th>\n",
       "      <th>sumpost_link_clicks</th>\n",
       "      <th>sumpost_reactions_total</th>\n",
       "      <th>avgpost_engaged_users</th>\n",
       "    </tr>\n",
       "  </thead>\n",
       "  <tbody>\n",
       "    <tr>\n",
       "      <th>0</th>\n",
       "      <td>link</td>\n",
       "      <td>49780393.000</td>\n",
       "      <td>564763591.000</td>\n",
       "      <td>42330121.000</td>\n",
       "      <td>4637319.000</td>\n",
       "      <td>1345416.027</td>\n",
       "    </tr>\n",
       "    <tr>\n",
       "      <th>2</th>\n",
       "      <td>photo</td>\n",
       "      <td>1582457.000</td>\n",
       "      <td>27146455.000</td>\n",
       "      <td>411413.000</td>\n",
       "      <td>486946.000</td>\n",
       "      <td>1352.527</td>\n",
       "    </tr>\n",
       "    <tr>\n",
       "      <th>1</th>\n",
       "      <td>video</td>\n",
       "      <td>15370272.000</td>\n",
       "      <td>330032423.000</td>\n",
       "      <td>451912.000</td>\n",
       "      <td>4925135.000</td>\n",
       "      <td>80896.168</td>\n",
       "    </tr>\n",
       "  </tbody>\n",
       "</table>\n",
       "</div>"
      ],
      "text/plain": [
       "  post_type  sumpost_engaged_users  sumpost_impressions_unique  \\\n",
       "0      link           49780393.000               564763591.000   \n",
       "2     photo            1582457.000                27146455.000   \n",
       "1     video           15370272.000               330032423.000   \n",
       "\n",
       "   sumpost_link_clicks  sumpost_reactions_total  avgpost_engaged_users  \n",
       "0         42330121.000              4637319.000            1345416.027  \n",
       "2           411413.000               486946.000               1352.527  \n",
       "1           451912.000              4925135.000              80896.168  "
      ]
     },
     "execution_count": 31,
     "metadata": {},
     "output_type": "execute_result"
    }
   ],
   "source": [
    "post_type_sum_df = json_normalize(post_type_sum).sort_values('post_type')\n",
    "post_type_sum_df[\"avgpost_engaged_users\"] = post_type_sum_df[\"sumpost_engaged_users\"] /post_type_count_df['count']\n",
    "# post_type_sum_df[\"avgpost_impressions_unique\"] = post_type_sum_df[\"sumpost_impressions_unique\"] /post_type_count_df['count'][2]\n",
    "post_type_sum_df"
   ]
  },
  {
   "cell_type": "code",
   "execution_count": 32,
   "metadata": {
    "collapsed": false
   },
   "outputs": [
    {
     "data": {
      "text/plain": [
       "2    1170\n",
       "0      37\n",
       "1     190\n",
       "Name: count, dtype: int64"
      ]
     },
     "execution_count": 32,
     "metadata": {},
     "output_type": "execute_result"
    }
   ],
   "source": [
    "post_type_count_df['count']"
   ]
  },
  {
   "cell_type": "code",
   "execution_count": 33,
   "metadata": {
    "collapsed": false
   },
   "outputs": [
    {
     "data": {
      "text/plain": [
       "0   49780393.000\n",
       "2    1582457.000\n",
       "1   15370272.000\n",
       "Name: sumpost_engaged_users, dtype: float64"
      ]
     },
     "execution_count": 33,
     "metadata": {},
     "output_type": "execute_result"
    }
   ],
   "source": [
    "post_type_sum_df[\"sumpost_engaged_users\"]"
   ]
  },
  {
   "cell_type": "code",
   "execution_count": 34,
   "metadata": {
    "collapsed": false
   },
   "outputs": [
    {
     "data": {
      "text/plain": [
       "0   1345416.027\n",
       "1     80896.168\n",
       "2      1352.527\n",
       "dtype: float64"
      ]
     },
     "execution_count": 34,
     "metadata": {},
     "output_type": "execute_result"
    }
   ],
   "source": [
    "post_type_sum_df[\"sumpost_engaged_users\"]/post_type_count_df['count']"
   ]
  },
  {
   "cell_type": "code",
   "execution_count": 35,
   "metadata": {
    "collapsed": false
   },
   "outputs": [
    {
     "data": {
      "text/plain": [
       "[{u'countstar': 1170.0,\n",
       "  u'post_type': u'link',\n",
       "  u'sumclick_size_ratio': 566.8649632054189,\n",
       "  u'sumclicks_to_impressions': 11225.440307281142,\n",
       "  u'sumlink_clicks_to_impressions': 8389.772932470933,\n",
       "  u'sumpost_comments': 579803.0,\n",
       "  u'sumpost_engaged_users': 49780393.0,\n",
       "  u'sumpost_impressions': 849571127.0,\n",
       "  u'sumpost_impressions_fan': 717000749.0,\n",
       "  u'sumpost_impressions_fan_unique': 476650945.0,\n",
       "  u'sumpost_impressions_unique': 564763591.0,\n",
       "  u'sumpost_likes': 3365293.0,\n",
       "  u'sumpost_link_clicks': 42330121.0,\n",
       "  u'sumpost_link_clicks_unique': 38877495.0,\n",
       "  u'sumpost_reactions_total': 4637319.0,\n",
       "  u'sumpost_shares': 1371627.0,\n",
       "  u'sumreached_size_ratio': 7561.743167656579,\n",
       "  u'sumreached_size_ratio_fan': 6381.88820867486},\n",
       " {u'countstar': 190.0,\n",
       "  u'post_type': u'video',\n",
       "  u'sumclick_size_ratio': 6.058147349549761,\n",
       "  u'sumclicks_to_impressions': 539.7611145544706,\n",
       "  u'sumlink_clicks_to_impressions': 68.00328593909231,\n",
       "  u'sumpost_comments': 509057.0,\n",
       "  u'sumpost_engaged_users': 15370272.0,\n",
       "  u'sumpost_impressions': 534209052.0,\n",
       "  u'sumpost_impressions_fan': 204376150.0,\n",
       "  u'sumpost_impressions_fan_unique': 132773149.0,\n",
       "  u'sumpost_impressions_unique': 330032423.0,\n",
       "  u'sumpost_likes': 4272551.0,\n",
       "  u'sumpost_link_clicks': 451912.0,\n",
       "  u'sumpost_link_clicks_unique': 406365.0,\n",
       "  u'sumpost_reactions_total': 4925135.0,\n",
       "  u'sumpost_shares': 1716050.0,\n",
       "  u'sumreached_size_ratio': 4420.3185801388145,\n",
       "  u'sumreached_size_ratio_fan': 1778.2846771662823},\n",
       " {u'countstar': 37.0,\n",
       "  u'post_type': u'photo',\n",
       "  u'sumclick_size_ratio': 5.48524352838922,\n",
       "  u'sumclicks_to_impressions': 270.6458124674336,\n",
       "  u'sumlink_clicks_to_impressions': 75.04257821126045,\n",
       "  u'sumpost_comments': 136198.0,\n",
       "  u'sumpost_engaged_users': 1582457.0,\n",
       "  u'sumpost_impressions': 46670670.0,\n",
       "  u'sumpost_impressions_fan': 24005821.0,\n",
       "  u'sumpost_impressions_fan_unique': 13754932.0,\n",
       "  u'sumpost_impressions_unique': 27146455.0,\n",
       "  u'sumpost_likes': 424965.0,\n",
       "  u'sumpost_link_clicks': 411413.0,\n",
       "  u'sumpost_link_clicks_unique': 389838.0,\n",
       "  u'sumpost_reactions_total': 486946.0,\n",
       "  u'sumpost_shares': 157206.0,\n",
       "  u'sumreached_size_ratio': 362.9572736329376,\n",
       "  u'sumreached_size_ratio_fan': 183.83274554434544}]"
      ]
     },
     "execution_count": 35,
     "metadata": {},
     "output_type": "execute_result"
    }
   ],
   "source": [
    "reducer = \\\n",
    "    Code(\"\"\"\n",
    "    function(obj, prev) {\n",
    "        if (true != null) if (true instanceof Array) prev.countstar += true.length;\n",
    "        else prev.countstar++;\n",
    "        prev.sumpost_likes = prev.sumpost_likes + obj.post_likes - 0;\n",
    "        prev.sumpost_comments = prev.sumpost_comments + obj.post_comments - 0;\n",
    "        prev.sumpost_shares = prev.sumpost_shares + obj.post_shares - 0;\n",
    "        prev.sumpost_reactions_total = prev.sumpost_reactions_total + obj.post_reactions_total - 0;\n",
    "        prev.sumpost_impressions_unique = prev.sumpost_impressions_unique + obj.post_impressions_unique - 0;\n",
    "        prev.sumpost_impressions = prev.sumpost_impressions + obj.post_impressions - 0;\n",
    "        prev.sumpost_impressions_fan = prev.sumpost_impressions_fan + obj.post_impressions_fan - 0;\n",
    "        prev.sumpost_impressions_fan_unique = prev.sumpost_impressions_fan_unique + obj.post_impressions_fan_unique - 0;\n",
    "        prev.sumpost_link_clicks = prev.sumpost_link_clicks + obj.post_link_clicks - 0;\n",
    "        prev.sumpost_link_clicks_unique = prev.sumpost_link_clicks_unique + obj.post_link_clicks_unique - 0;\n",
    "        prev.sumpost_engaged_users = prev.sumpost_engaged_users + obj.post_engaged_users - 0;\n",
    "        prev.sumreached_size_ratio = prev.sumreached_size_ratio + obj.reached_size_ratio - 0;\n",
    "        prev.sumreached_size_ratio_fan = prev.sumreached_size_ratio_fan + obj.reached_size_ratio_fan - 0;\n",
    "        prev.sumclick_size_ratio = prev.sumclick_size_ratio + obj.click_size_ratio - 0;\n",
    "        prev.sumclicks_to_impressions = prev.sumclicks_to_impressions + obj.clicks_to_impressions - 0;\n",
    "        prev.sumlink_clicks_to_impressions = prev.sumlink_clicks_to_impressions + obj.link_clicks_to_impressions - 0;\n",
    "    }\n",
    "    \"\"\")\n",
    "\n",
    "post_summary_sum_by_post_type = db.post_summary.group(key={'post_type': True},initial={\n",
    "    'countstar': 0,\n",
    "    'sumpost_engaged_users': 0,\n",
    "    'sumpost_reactions_total': 0,\n",
    "    'sumpost_link_clicks': 0,\n",
    "    'sumpost_impressions_unique': 0,\n",
    "    'sumpost_likes': 0,\n",
    "    'sumpost_comments': 0,\n",
    "    'sumpost_shares': 0,\n",
    "    'sumpost_impressions': 0,\n",
    "    'sumpost_impressions_fan': 0,\n",
    "    'sumpost_impressions_fan_unique': 0,\n",
    "    'sumpost_link_clicks_unique': 0,\n",
    "    'sumreached_size_ratio': 0,\n",
    "    'sumreached_size_ratio_fan': 0,\n",
    "    'sumclick_size_ratio': 0,\n",
    "    'sumclicks_to_impressions': 0,\n",
    "    'sumlink_clicks_to_impressions': 0,\n",
    "    }, reduce=reducer, condition={'page_name': 'Shared',\n",
    "                                  'date': {'$gt': '2016-11-01',\n",
    "                                  '$lt': '2016-12-01'}}, finalize=None)\n",
    "\n",
    "post_summary_sum_by_post_type"
   ]
  },
  {
   "cell_type": "code",
   "execution_count": 36,
   "metadata": {
    "collapsed": false
   },
   "outputs": [
    {
     "data": {
      "text/html": [
       "<div>\n",
       "<table border=\"1\" class=\"dataframe\">\n",
       "  <thead>\n",
       "    <tr style=\"text-align: right;\">\n",
       "      <th></th>\n",
       "      <th>0</th>\n",
       "      <th>1</th>\n",
       "      <th>2</th>\n",
       "    </tr>\n",
       "  </thead>\n",
       "  <tbody>\n",
       "    <tr>\n",
       "      <th>countstar</th>\n",
       "      <td>1170.000</td>\n",
       "      <td>190.000</td>\n",
       "      <td>37.000</td>\n",
       "    </tr>\n",
       "    <tr>\n",
       "      <th>post_type</th>\n",
       "      <td>link</td>\n",
       "      <td>video</td>\n",
       "      <td>photo</td>\n",
       "    </tr>\n",
       "    <tr>\n",
       "      <th>sumclick_size_ratio</th>\n",
       "      <td>566.865</td>\n",
       "      <td>6.058</td>\n",
       "      <td>5.485</td>\n",
       "    </tr>\n",
       "    <tr>\n",
       "      <th>sumclicks_to_impressions</th>\n",
       "      <td>11225.440</td>\n",
       "      <td>539.761</td>\n",
       "      <td>270.646</td>\n",
       "    </tr>\n",
       "    <tr>\n",
       "      <th>sumlink_clicks_to_impressions</th>\n",
       "      <td>8389.773</td>\n",
       "      <td>68.003</td>\n",
       "      <td>75.043</td>\n",
       "    </tr>\n",
       "    <tr>\n",
       "      <th>sumpost_comments</th>\n",
       "      <td>579803.000</td>\n",
       "      <td>509057.000</td>\n",
       "      <td>136198.000</td>\n",
       "    </tr>\n",
       "    <tr>\n",
       "      <th>sumpost_engaged_users</th>\n",
       "      <td>49780393.000</td>\n",
       "      <td>15370272.000</td>\n",
       "      <td>1582457.000</td>\n",
       "    </tr>\n",
       "    <tr>\n",
       "      <th>sumpost_impressions</th>\n",
       "      <td>849571127.000</td>\n",
       "      <td>534209052.000</td>\n",
       "      <td>46670670.000</td>\n",
       "    </tr>\n",
       "    <tr>\n",
       "      <th>sumpost_impressions_fan</th>\n",
       "      <td>717000749.000</td>\n",
       "      <td>204376150.000</td>\n",
       "      <td>24005821.000</td>\n",
       "    </tr>\n",
       "    <tr>\n",
       "      <th>sumpost_impressions_fan_unique</th>\n",
       "      <td>476650945.000</td>\n",
       "      <td>132773149.000</td>\n",
       "      <td>13754932.000</td>\n",
       "    </tr>\n",
       "    <tr>\n",
       "      <th>sumpost_impressions_unique</th>\n",
       "      <td>564763591.000</td>\n",
       "      <td>330032423.000</td>\n",
       "      <td>27146455.000</td>\n",
       "    </tr>\n",
       "    <tr>\n",
       "      <th>sumpost_likes</th>\n",
       "      <td>3365293.000</td>\n",
       "      <td>4272551.000</td>\n",
       "      <td>424965.000</td>\n",
       "    </tr>\n",
       "    <tr>\n",
       "      <th>sumpost_link_clicks</th>\n",
       "      <td>42330121.000</td>\n",
       "      <td>451912.000</td>\n",
       "      <td>411413.000</td>\n",
       "    </tr>\n",
       "    <tr>\n",
       "      <th>sumpost_link_clicks_unique</th>\n",
       "      <td>38877495.000</td>\n",
       "      <td>406365.000</td>\n",
       "      <td>389838.000</td>\n",
       "    </tr>\n",
       "    <tr>\n",
       "      <th>sumpost_reactions_total</th>\n",
       "      <td>4637319.000</td>\n",
       "      <td>4925135.000</td>\n",
       "      <td>486946.000</td>\n",
       "    </tr>\n",
       "    <tr>\n",
       "      <th>sumpost_shares</th>\n",
       "      <td>1371627.000</td>\n",
       "      <td>1716050.000</td>\n",
       "      <td>157206.000</td>\n",
       "    </tr>\n",
       "    <tr>\n",
       "      <th>sumreached_size_ratio</th>\n",
       "      <td>7561.743</td>\n",
       "      <td>4420.319</td>\n",
       "      <td>362.957</td>\n",
       "    </tr>\n",
       "    <tr>\n",
       "      <th>sumreached_size_ratio_fan</th>\n",
       "      <td>6381.888</td>\n",
       "      <td>1778.285</td>\n",
       "      <td>183.833</td>\n",
       "    </tr>\n",
       "  </tbody>\n",
       "</table>\n",
       "</div>"
      ],
      "text/plain": [
       "                                           0             1            2\n",
       "countstar                           1170.000       190.000       37.000\n",
       "post_type                               link         video        photo\n",
       "sumclick_size_ratio                  566.865         6.058        5.485\n",
       "sumclicks_to_impressions           11225.440       539.761      270.646\n",
       "sumlink_clicks_to_impressions       8389.773        68.003       75.043\n",
       "sumpost_comments                  579803.000    509057.000   136198.000\n",
       "sumpost_engaged_users           49780393.000  15370272.000  1582457.000\n",
       "sumpost_impressions            849571127.000 534209052.000 46670670.000\n",
       "sumpost_impressions_fan        717000749.000 204376150.000 24005821.000\n",
       "sumpost_impressions_fan_unique 476650945.000 132773149.000 13754932.000\n",
       "sumpost_impressions_unique     564763591.000 330032423.000 27146455.000\n",
       "sumpost_likes                    3365293.000   4272551.000   424965.000\n",
       "sumpost_link_clicks             42330121.000    451912.000   411413.000\n",
       "sumpost_link_clicks_unique      38877495.000    406365.000   389838.000\n",
       "sumpost_reactions_total          4637319.000   4925135.000   486946.000\n",
       "sumpost_shares                   1371627.000   1716050.000   157206.000\n",
       "sumreached_size_ratio               7561.743      4420.319      362.957\n",
       "sumreached_size_ratio_fan           6381.888      1778.285      183.833"
      ]
     },
     "execution_count": 36,
     "metadata": {},
     "output_type": "execute_result"
    }
   ],
   "source": [
    "pd.DataFrame(post_summary_sum_by_post_type).transpose()"
   ]
  },
  {
   "cell_type": "code",
   "execution_count": 37,
   "metadata": {
    "collapsed": true
   },
   "outputs": [],
   "source": [
    "post_by_brand = [\n",
    "    {\n",
    "        \"brand_domain\" : \"Shareably\",\n",
    "        \"countstar\" : 69.0\n",
    "    },\n",
    "    {\n",
    "        \"brand_domain\" : \"not defined\",\n",
    "        \"countstar\" : 376.0\n",
    "    },\n",
    "    {\n",
    "        \"brand_domain\" : \"Rndr\",\n",
    "        \"countstar\" : 160.0\n",
    "    },\n",
    "    {\n",
    "        \"brand_domain\" : \"Little Things\",\n",
    "        \"countstar\" : 187.0\n",
    "    },\n",
    "    {\n",
    "        \"brand_domain\" : \"Trancos\",\n",
    "        \"countstar\" : 65.0\n",
    "    },\n",
    "    {\n",
    "        \"brand_domain\" : \"Random Stuff\",\n",
    "        \"countstar\" : 228.0\n",
    "    },\n",
    "    {\n",
    "        \"brand_domain\" : \"Inspire More\",\n",
    "        \"countstar\" : 41.0\n",
    "    },\n",
    "    {\n",
    "        \"brand_domain\" : \"HeroViral\",\n",
    "        \"countstar\" : 92.0\n",
    "    },\n",
    "    {\n",
    "        \"brand_domain\" : \"PawMyGosh\",\n",
    "        \"countstar\" : 12.0\n",
    "    },\n",
    "    {\n",
    "        \"brand_domain\" : \"BoredomTherapy\",\n",
    "        \"countstar\" : 29.0\n",
    "    },\n",
    "    {\n",
    "        \"brand_domain\" : \"American Overlook\",\n",
    "        \"countstar\" : 123.0\n",
    "    },\n",
    "    {\n",
    "        \"brand_domain\" : \"Bricor Media\",\n",
    "        \"countstar\" : 5.0\n",
    "    },\n",
    "    {\n",
    "        \"brand_domain\" : \"GoFansGo\",\n",
    "        \"countstar\" : 3.0\n",
    "    },\n",
    "    {\n",
    "        \"brand_domain\" : \"Tickld\",\n",
    "        \"countstar\" : 1.0\n",
    "    },\n",
    "    {\n",
    "        \"brand_domain\" : \"Unsure Clients\",\n",
    "        \"countstar\" : 1.0\n",
    "    },\n",
    "    {\n",
    "        \"brand_domain\" : \"SF Globe\",\n",
    "        \"countstar\" : 4.0\n",
    "    },\n",
    "    {\n",
    "        \"brand_domain\" : \"TwentyTwoWords\",\n",
    "        \"countstar\" : 1.0\n",
    "    }\n",
    "]"
   ]
  },
  {
   "cell_type": "code",
   "execution_count": 38,
   "metadata": {
    "collapsed": false
   },
   "outputs": [
    {
     "data": {
      "text/html": [
       "<div>\n",
       "<table border=\"1\" class=\"dataframe\">\n",
       "  <thead>\n",
       "    <tr style=\"text-align: right;\">\n",
       "      <th></th>\n",
       "      <th>brand_domain</th>\n",
       "      <th>countstar</th>\n",
       "    </tr>\n",
       "  </thead>\n",
       "  <tbody>\n",
       "    <tr>\n",
       "      <th>1</th>\n",
       "      <td>not defined</td>\n",
       "      <td>376.000</td>\n",
       "    </tr>\n",
       "    <tr>\n",
       "      <th>5</th>\n",
       "      <td>Random Stuff</td>\n",
       "      <td>228.000</td>\n",
       "    </tr>\n",
       "    <tr>\n",
       "      <th>3</th>\n",
       "      <td>Little Things</td>\n",
       "      <td>187.000</td>\n",
       "    </tr>\n",
       "    <tr>\n",
       "      <th>2</th>\n",
       "      <td>Rndr</td>\n",
       "      <td>160.000</td>\n",
       "    </tr>\n",
       "    <tr>\n",
       "      <th>10</th>\n",
       "      <td>American Overlook</td>\n",
       "      <td>123.000</td>\n",
       "    </tr>\n",
       "    <tr>\n",
       "      <th>7</th>\n",
       "      <td>HeroViral</td>\n",
       "      <td>92.000</td>\n",
       "    </tr>\n",
       "    <tr>\n",
       "      <th>0</th>\n",
       "      <td>Shareably</td>\n",
       "      <td>69.000</td>\n",
       "    </tr>\n",
       "    <tr>\n",
       "      <th>4</th>\n",
       "      <td>Trancos</td>\n",
       "      <td>65.000</td>\n",
       "    </tr>\n",
       "    <tr>\n",
       "      <th>6</th>\n",
       "      <td>Inspire More</td>\n",
       "      <td>41.000</td>\n",
       "    </tr>\n",
       "    <tr>\n",
       "      <th>9</th>\n",
       "      <td>BoredomTherapy</td>\n",
       "      <td>29.000</td>\n",
       "    </tr>\n",
       "    <tr>\n",
       "      <th>8</th>\n",
       "      <td>PawMyGosh</td>\n",
       "      <td>12.000</td>\n",
       "    </tr>\n",
       "    <tr>\n",
       "      <th>11</th>\n",
       "      <td>Bricor Media</td>\n",
       "      <td>5.000</td>\n",
       "    </tr>\n",
       "    <tr>\n",
       "      <th>15</th>\n",
       "      <td>SF Globe</td>\n",
       "      <td>4.000</td>\n",
       "    </tr>\n",
       "    <tr>\n",
       "      <th>12</th>\n",
       "      <td>GoFansGo</td>\n",
       "      <td>3.000</td>\n",
       "    </tr>\n",
       "    <tr>\n",
       "      <th>13</th>\n",
       "      <td>Tickld</td>\n",
       "      <td>1.000</td>\n",
       "    </tr>\n",
       "    <tr>\n",
       "      <th>14</th>\n",
       "      <td>Unsure Clients</td>\n",
       "      <td>1.000</td>\n",
       "    </tr>\n",
       "    <tr>\n",
       "      <th>16</th>\n",
       "      <td>TwentyTwoWords</td>\n",
       "      <td>1.000</td>\n",
       "    </tr>\n",
       "  </tbody>\n",
       "</table>\n",
       "</div>"
      ],
      "text/plain": [
       "         brand_domain  countstar\n",
       "1         not defined    376.000\n",
       "5        Random Stuff    228.000\n",
       "3       Little Things    187.000\n",
       "2                Rndr    160.000\n",
       "10  American Overlook    123.000\n",
       "7           HeroViral     92.000\n",
       "0           Shareably     69.000\n",
       "4             Trancos     65.000\n",
       "6        Inspire More     41.000\n",
       "9      BoredomTherapy     29.000\n",
       "8           PawMyGosh     12.000\n",
       "11       Bricor Media      5.000\n",
       "15           SF Globe      4.000\n",
       "12           GoFansGo      3.000\n",
       "13             Tickld      1.000\n",
       "14     Unsure Clients      1.000\n",
       "16     TwentyTwoWords      1.000"
      ]
     },
     "execution_count": 38,
     "metadata": {},
     "output_type": "execute_result"
    }
   ],
   "source": [
    "post_by_brand_df = pd.DataFrame(post_by_brand).sort_values('countstar',ascending=False)\n",
    "post_by_brand_df "
   ]
  },
  {
   "cell_type": "code",
   "execution_count": null,
   "metadata": {
    "collapsed": true
   },
   "outputs": [],
   "source": []
  }
 ],
 "metadata": {
  "anaconda-cloud": {},
  "kernelspec": {
   "display_name": "Python [Root]",
   "language": "python",
   "name": "Python [Root]"
  },
  "language_info": {
   "codemirror_mode": {
    "name": "ipython",
    "version": 2
   },
   "file_extension": ".py",
   "mimetype": "text/x-python",
   "name": "python",
   "nbconvert_exporter": "python",
   "pygments_lexer": "ipython2",
   "version": "2.7.12"
  }
 },
 "nbformat": 4,
 "nbformat_minor": 0
}
