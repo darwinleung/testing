{
 "cells": [
  {
   "cell_type": "markdown",
   "metadata": {},
   "source": [
    "Federal tax bracket\tFederal tax rates\tOntario tax bracket\tOntario tax rates\n",
    "$45,916 or less\t15.00%\t$42,201 or less\t5.05%\n",
    "$45,917 to $91,831\t20.50%\t$42,202 to $84,404\t9.15%\n",
    "$91,832 to $142,353\t26.00%\t$84,405 to $150,000\t11.16%\n",
    "$142,354 to $202,800\t29.00%\t$150,001 to $220,000\t12.16%\n",
    "More than $202,800\t33.00%\tMore than $220,000\t13.16%"
   ]
  },
  {
   "cell_type": "code",
   "execution_count": 29,
   "metadata": {
    "collapsed": true
   },
   "outputs": [],
   "source": [
    "def findfedtax2017(income):\n",
    "    if income <= 45916:\n",
    "        return income*0.15\n",
    "    elif income <= 91831:\n",
    "        return 45916*0.15+(income-45916)*0.2050\n",
    "    elif income <= 142353:\n",
    "        return 45916*0.15+(91831-45916)*0.2050+(income-91831)*0.26\n",
    "    elif income <= 202800:\n",
    "        return 45916*0.15+(91831-45916)*0.2050+(142353-91831)*0.26+(income-142353)*0.29\n",
    "    else:\n",
    "        return 45916*0.15+(91831-45916)*0.2050+(142353-91831)*0.26+(202800-142353)*0.29+(income-202800)*0.33\n",
    "    \n",
    "def findontax2017(income):\n",
    "    if income <= 42201:\n",
    "        return income*0.0505\n",
    "    elif income <= 84404:\n",
    "        return 42201*0.0505+(income-42201)*0.0915\n",
    "    elif income <= 150000:\n",
    "        return 42201*0.0505+(84404-42201)*0.0915+(income-84404)*0.1116\n",
    "    elif income <= 220000:\n",
    "        return 42201*0.0505+(84404-42201)*0.0915+(150000-84404)*0.1116+(income-150000)*0.1216\n",
    "    else:\n",
    "        return 42201*0.0505+(84404-42201)*0.0915+(150000-84404)*0.1116+(220000-150000)*0.1216+(income-220000)*0.1316"
   ]
  },
  {
   "cell_type": "code",
   "execution_count": 45,
   "metadata": {
    "collapsed": false
   },
   "outputs": [
    {
     "name": "stdout",
     "output_type": "stream",
     "text": [
      "12129.37 5076.1235 17205.4935\n"
     ]
    }
   ],
   "source": [
    "i = 80000\n",
    "fedtax = findfedtax2017(i)- 11635*0.15\n",
    "ontax = findontax2017(i) - 10171*0.0505\n",
    "totaltax = fedtax  + ontax\n",
    "print fedtax,ontax,totaltax"
   ]
  },
  {
   "cell_type": "code",
   "execution_count": 36,
   "metadata": {
    "collapsed": false
   },
   "outputs": [
    {
     "data": {
      "text/plain": [
       "6887.4"
      ]
     },
     "execution_count": 36,
     "metadata": {},
     "output_type": "execute_result"
    }
   ],
   "source": [
    "(45916*0.15)+((80000-45916.00)*0.2050)"
   ]
  }
 ],
 "metadata": {
  "kernelspec": {
   "display_name": "Python [Root]",
   "language": "python",
   "name": "Python [Root]"
  },
  "language_info": {
   "codemirror_mode": {
    "name": "ipython",
    "version": 2
   },
   "file_extension": ".py",
   "mimetype": "text/x-python",
   "name": "python",
   "nbconvert_exporter": "python",
   "pygments_lexer": "ipython2",
   "version": "2.7.12"
  }
 },
 "nbformat": 4,
 "nbformat_minor": 2
}
