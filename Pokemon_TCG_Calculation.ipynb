{
  "nbformat": 4,
  "nbformat_minor": 0,
  "metadata": {
    "colab": {
      "provenance": [],
      "toc_visible": true,
      "authorship_tag": "ABX9TyMMpPLE9qrGksRKePJyQIKA",
      "include_colab_link": true
    },
    "kernelspec": {
      "name": "python3",
      "display_name": "Python 3"
    },
    "language_info": {
      "name": "python"
    }
  },
  "cells": [
    {
      "cell_type": "markdown",
      "metadata": {
        "id": "view-in-github",
        "colab_type": "text"
      },
      "source": [
        "<a href=\"https://colab.research.google.com/github/darwinleung/testing/blob/master/Pokemon_TCG_Calculation.ipynb\" target=\"_parent\"><img src=\"https://colab.research.google.com/assets/colab-badge.svg\" alt=\"Open In Colab\"/></a>"
      ]
    },
    {
      "cell_type": "code",
      "source": [],
      "metadata": {
        "id": "OTabp_VBLqX8"
      },
      "execution_count": null,
      "outputs": []
    },
    {
      "cell_type": "markdown",
      "source": [
        "# Mulligan"
      ],
      "metadata": {
        "id": "OG48k9TsLvd1"
      }
    },
    {
      "cell_type": "code",
      "source": [
        "import math\n",
        "from math import comb\n",
        "from math import perm"
      ],
      "metadata": {
        "id": "DvcGVVz_ABf9"
      },
      "execution_count": 4,
      "outputs": []
    },
    {
      "cell_type": "markdown",
      "source": [
        "60 cards in deck, only X basic pokemons, draw 7 cards for starting hand, if none of the starting hand is pokemon, then will do a mulligan, what is the expected number of mulligan?"
      ],
      "metadata": {
        "id": "rLH3h_jLA2AE"
      }
    },
    {
      "cell_type": "markdown",
      "source": [
        "P(not mulligan) = P(at least 1 pokemon)\n",
        "\n",
        "                   = 1 - P(zero pokemon)\n",
        "                \n",
        "                   = 1 - 56P7 / 60P7"
      ],
      "metadata": {
        "id": "tou9Au7aBntB"
      }
    },
    {
      "cell_type": "code",
      "source": [
        "def prob_of_mulligan(num_specific_card=4, total_cards=60, hand_size=7):\n",
        "  print(comb(total_cards - num_specific_card, hand_size) / comb(total_cards, hand_size))\n",
        "  return (perm(total_cards-num_specific_card,hand_size)/perm(total_cards,hand_size))"
      ],
      "metadata": {
        "id": "-YJmPeNzRGeL"
      },
      "execution_count": 141,
      "outputs": []
    },
    {
      "cell_type": "code",
      "source": [
        "prob_of_mulligan(num_specific_card=4)"
      ],
      "metadata": {
        "colab": {
          "base_uri": "https://localhost:8080/"
        },
        "id": "KwVYoh5NRli1",
        "outputId": "cb00240b-6938-476e-ece2-10450df08c89"
      },
      "execution_count": 142,
      "outputs": [
        {
          "output_type": "stream",
          "name": "stdout",
          "text": [
            "0.6005003742553344\n"
          ]
        },
        {
          "output_type": "execute_result",
          "data": {
            "text/plain": [
              "0.6005003742553344"
            ]
          },
          "metadata": {},
          "execution_count": 142
        }
      ]
    },
    {
      "cell_type": "code",
      "source": [
        "def expected_mulligans(prob):\n",
        "    return 1/(1-prob)-1"
      ],
      "metadata": {
        "id": "RIg0B4sjR28Z"
      },
      "execution_count": 92,
      "outputs": []
    },
    {
      "cell_type": "code",
      "source": [
        "expected_mulligans(prob_of_mulligan(4))"
      ],
      "metadata": {
        "colab": {
          "base_uri": "https://localhost:8080/"
        },
        "id": "rQ3UM7CxR7jC",
        "outputId": "b7a26a6d-5005-421c-b0b7-a99a31f30154"
      },
      "execution_count": 93,
      "outputs": [
        {
          "output_type": "execute_result",
          "data": {
            "text/plain": [
              "1.503131256095683"
            ]
          },
          "metadata": {},
          "execution_count": 93
        }
      ]
    },
    {
      "cell_type": "code",
      "source": [
        "def n_mulligan_prob(num_specific_card=4, mulligan_count=0):\n",
        "  p = 1-prob_of_mulligan(num_specific_card)\n",
        "  return ((1-p)**mulligan_count)*p"
      ],
      "metadata": {
        "id": "xlcYjOPETCrg"
      },
      "execution_count": 104,
      "outputs": []
    },
    {
      "cell_type": "code",
      "source": [
        "n_mulligan_prob(4,0)"
      ],
      "metadata": {
        "colab": {
          "base_uri": "https://localhost:8080/"
        },
        "id": "vqEeCX-4ThOB",
        "outputId": "4fe39309-81d9-4d77-93e7-c2ee95990972"
      },
      "execution_count": 105,
      "outputs": [
        {
          "output_type": "execute_result",
          "data": {
            "text/plain": [
              "0.3994996257446656"
            ]
          },
          "metadata": {},
          "execution_count": 105
        }
      ]
    },
    {
      "cell_type": "code",
      "source": [
        "def mulligan_count_prob(num_specific_card=4, n=10):\n",
        "  prob = prob_of_mulligan(num_specific_card)\n",
        "  print(\"Expected mulligan count: {:.02f}\".format(expected_mulligans(prob)))\n",
        "  sum = 0\n",
        "  for i in range(n):\n",
        "    sum += n_mulligan_prob(num_specific_card,i)\n",
        "    print(\"Probability of having {} mulligans: {:.02f}%\".format(i,n_mulligan_prob(num_specific_card,i)*100))\n",
        "  print(\"Probability of having {}+ mulligans: {:.02f}%\".format(n,(1-sum)*100))"
      ],
      "metadata": {
        "id": "kMQP6bgGR9bL"
      },
      "execution_count": 129,
      "outputs": []
    },
    {
      "cell_type": "code",
      "source": [
        "mulligan_count_prob(1)"
      ],
      "metadata": {
        "colab": {
          "base_uri": "https://localhost:8080/"
        },
        "id": "int1fDXdSDro",
        "outputId": "92f06afe-76ac-4559-a0e4-def4b7ca71e1"
      },
      "execution_count": 132,
      "outputs": [
        {
          "output_type": "stream",
          "name": "stdout",
          "text": [
            "Expected mulligan count: 7.57\n",
            "Probability of having 0 mulligans: 11.67%\n",
            "Probability of having 1 mulligans: 10.31%\n",
            "Probability of having 2 mulligans: 9.10%\n",
            "Probability of having 3 mulligans: 8.04%\n",
            "Probability of having 4 mulligans: 7.10%\n",
            "Probability of having 5 mulligans: 6.27%\n",
            "Probability of having 6 mulligans: 5.54%\n",
            "Probability of having 7 mulligans: 4.90%\n",
            "Probability of having 8 mulligans: 4.32%\n",
            "Probability of having 9 mulligans: 3.82%\n",
            "Probability of having 10+ mulligans: 28.92%\n"
          ]
        }
      ]
    },
    {
      "cell_type": "code",
      "source": [
        "# prompt: build a bar chart to show the probability distribution above\n",
        "\n",
        "import matplotlib.pyplot as plt\n",
        "\n",
        "def mulligan_count_prob_chart(num_specific_card=4, n=10):\n",
        "  prob = prob_of_mulligan(num_specific_card)\n",
        "  print(\"Expected mulligan count: {:.02f}\".format(expected_mulligans(prob)))\n",
        "  x_axis = []\n",
        "  y_axis = []\n",
        "  # sum = 0\n",
        "  for i in range(n+1):\n",
        "    x_axis.append(i)\n",
        "    y = n_mulligan_prob(num_specific_card,i)*100\n",
        "    y_axis.append(y)\n",
        "    # sum += n_mulligan_prob(num_specific_card,i)\n",
        "    print(\"Probability of having {} mulligans: {:.02f}%\".format(i,y))\n",
        "  # print(\"Probability of having {}+ mulligans: {:.02f}%\".format(n,(1-sum)*100))\n",
        "  plt.bar(x_axis,y_axis)\n",
        "  plt.xlabel(\"Number of Mulligans\")\n",
        "  plt.ylabel(\"Probability (%)\")\n",
        "  plt.title(\"Probability Distribution of Mulligans\")\n",
        "  plt.show()\n",
        "\n",
        "mulligan_count_prob_chart(4)\n"
      ],
      "metadata": {
        "colab": {
          "base_uri": "https://localhost:8080/",
          "height": 680
        },
        "id": "4yGX2HClQ5fI",
        "outputId": "37712398-899a-41d7-bd3f-8b4f3093d776"
      },
      "execution_count": 137,
      "outputs": [
        {
          "output_type": "stream",
          "name": "stdout",
          "text": [
            "Expected mulligan count: 1.50\n",
            "Probability of having 0 mulligans: 39.95%\n",
            "Probability of having 1 mulligans: 23.99%\n",
            "Probability of having 2 mulligans: 14.41%\n",
            "Probability of having 3 mulligans: 8.65%\n",
            "Probability of having 4 mulligans: 5.19%\n",
            "Probability of having 5 mulligans: 3.12%\n",
            "Probability of having 6 mulligans: 1.87%\n",
            "Probability of having 7 mulligans: 1.12%\n",
            "Probability of having 8 mulligans: 0.68%\n",
            "Probability of having 9 mulligans: 0.41%\n",
            "Probability of having 10 mulligans: 0.24%\n"
          ]
        },
        {
          "output_type": "display_data",
          "data": {
            "text/plain": [
              "<Figure size 640x480 with 1 Axes>"
            ],
            "image/png": "[encoded data removed]"
          },
          "metadata": {}
        }
      ]
    },
    {
      "cell_type": "markdown",
      "source": [
        "# No. of specific cards in starting hands"
      ],
      "metadata": {
        "id": "nyQHdVp4LfYX"
      }
    },
    {
      "cell_type": "code",
      "source": [],
      "metadata": {
        "id": "Ra-wEsMiAm8j"
      },
      "execution_count": null,
      "outputs": []
    },
    {
      "cell_type": "code",
      "source": [
        "1-prob_of_mulligan(2, 59, 7)"
      ],
      "metadata": {
        "colab": {
          "base_uri": "https://localhost:8080/"
        },
        "id": "ocmNGEnNKUPi",
        "outputId": "290d7d88-6062-438b-d128-622d5e1348fd"
      },
      "execution_count": 99,
      "outputs": [
        {
          "output_type": "execute_result",
          "data": {
            "text/plain": [
              "0.22501461133839862"
            ]
          },
          "metadata": {},
          "execution_count": 99
        }
      ]
    },
    {
      "cell_type": "markdown",
      "source": [
        "\\[\n",
        "P(K=0) = \\frac{\\binom{X}{0} \\cdot \\binom{N-X}{n}}{\\binom{N}{n}}\n",
        "\\]\\\n",
        "\n",
        "\\[\n",
        "P(K=0) = \\frac{\\binom{X}{0} \\cdot \\binom{N-X}{n}}{\\binom{N}{n}}\n",
        "\\]"
      ],
      "metadata": {
        "id": "HGamv0WOApk_"
      }
    },
    {
      "cell_type": "code",
      "source": [
        "# prompt: write a function to calculate the probability of drawing 7 cards with k number of a certain card in a 60 cards deck\n",
        "\n",
        "def prob_k_cards(k, num_specific_card=4, total_cards=59, hand_size=7):\n",
        "  \"\"\"\n",
        "  Calculates the probability of drawing exactly k specific cards in a hand.\n",
        "\n",
        "  Args:\n",
        "    k: The number of specific cards to draw.\n",
        "    total_cards: The total number of cards in the deck.\n",
        "    hand_size: The size of the hand being drawn.\n",
        "    num_specific_card: The number of specific cards in the deck.\n",
        "\n",
        "  Returns:\n",
        "    The probability of drawing exactly k specific cards.\n",
        "  \"\"\"\n",
        "  return (comb(num_specific_card, k) * comb(total_cards - num_specific_card, hand_size - k)) / comb(total_cards, hand_size)\n"
      ],
      "metadata": {
        "id": "nCzUmKGfS1s-"
      },
      "execution_count": 73,
      "outputs": []
    },
    {
      "cell_type": "code",
      "source": [
        "prob_k_cards(0,2)"
      ],
      "metadata": {
        "colab": {
          "base_uri": "https://localhost:8080/"
        },
        "id": "q4pqn_j8viW1",
        "outputId": "93b08555-a4bb-4c37-89ec-beb14bea97d9"
      },
      "execution_count": 100,
      "outputs": [
        {
          "output_type": "execute_result",
          "data": {
            "text/plain": [
              "0.7749853886616014"
            ]
          },
          "metadata": {},
          "execution_count": 100
        }
      ]
    },
    {
      "cell_type": "code",
      "source": [
        "sum = 0\n",
        "for i in range(5):\n",
        "  sum += prob_k_cards(i,2)\n",
        "  print(prob_k_cards(i,2))\n",
        "print(sum)"
      ],
      "metadata": {
        "colab": {
          "base_uri": "https://localhost:8080/"
        },
        "id": "Q3u2szvVvmfo",
        "outputId": "524eb269-51e6-40d8-e359-59b42b22a45b"
      },
      "execution_count": 101,
      "outputs": [
        {
          "output_type": "stream",
          "name": "stdout",
          "text": [
            "0.7749853886616014\n",
            "0.21274108708357686\n",
            "0.012273524254821741\n",
            "0.0\n",
            "0.0\n",
            "1.0\n"
          ]
        }
      ]
    },
    {
      "cell_type": "code",
      "source": [
        "def specific_card_count_prob(num_specific_card=4):\n",
        "  for i in range(num_specific_card+1):\n",
        "    print(\"Probability of having {} specific cards: {:.02f}%\".format(i,prob_k_cards(i,num_specific_card)*100))"
      ],
      "metadata": {
        "id": "XUOY_mFFL74K"
      },
      "execution_count": 110,
      "outputs": []
    },
    {
      "cell_type": "code",
      "source": [
        "specific_card_count_prob(1)"
      ],
      "metadata": {
        "colab": {
          "base_uri": "https://localhost:8080/"
        },
        "id": "gO_yquuk91BJ",
        "outputId": "9c7dd3a1-9cab-4a0b-c39b-f24dd8b60e40"
      },
      "execution_count": 118,
      "outputs": [
        {
          "output_type": "stream",
          "name": "stdout",
          "text": [
            "Probability of having 0 specific cards: 88.14%\n",
            "Probability of having 1 specific cards: 11.86%\n"
          ]
        }
      ]
    },
    {
      "cell_type": "code",
      "source": [],
      "metadata": {
        "id": "0KnaR3Yl-wMg"
      },
      "execution_count": null,
      "outputs": []
    },
    {
      "cell_type": "markdown",
      "source": [
        "# Probability of prizing a specific card"
      ],
      "metadata": {
        "id": "pEX_EmWzM1pj"
      }
    },
    {
      "cell_type": "code",
      "source": [],
      "metadata": {
        "id": "4N18TvgjM41a"
      },
      "execution_count": null,
      "outputs": []
    },
    {
      "cell_type": "code",
      "source": [],
      "metadata": {
        "id": "h-VwUzCgOBSL"
      },
      "execution_count": null,
      "outputs": []
    },
    {
      "cell_type": "markdown",
      "source": [
        "# Probability of starting with that 1 bad starter\n",
        "e.g. luminion"
      ],
      "metadata": {
        "id": "i7wRTWw4OBye"
      }
    },
    {
      "cell_type": "code",
      "source": [],
      "metadata": {
        "id": "DcwTOkuHOHjw"
      },
      "execution_count": null,
      "outputs": []
    },
    {
      "cell_type": "code",
      "source": [],
      "metadata": {
        "id": "3sMdyv04OOAZ"
      },
      "execution_count": null,
      "outputs": []
    },
    {
      "cell_type": "markdown",
      "source": [
        "## Appendix\n",
        "\n",
        "Resources:\n",
        "https://sixprizes.com/2013/01/13/themathtcg-the-probabilities-behind/#39577-3-1-the-probability-of-not-having-a-mulligan\n",
        "https://www.pojo.com/Features/X-Act/2005/Odds%20in%20Pokemon%203.htm\n",
        "https://limitlesstcg.com/tools/drawcalc\n",
        "https://www.justinbasil.com/guide/appendix4\n"
      ],
      "metadata": {
        "id": "IXpt7K7UOOvM"
      }
    }
  ]
}